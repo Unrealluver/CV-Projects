{
 "cells": [
  {
   "cell_type": "code",
   "execution_count": 3,
   "metadata": {
    "autoscroll": false,
    "ein.hycell": false,
    "ein.tags": "worksheet-0",
    "pycharm": {
     "is_executing": true
    },
    "slideshow": {
     "slide_type": "-"
    }
   },
   "outputs": [],
   "source": [
    "import os\n",
    "import numpy as np\n",
    "from random import random\n",
    "import matplotlib.pyplot as plt\n",
    "from math import *"
   ]
  },
  {
   "cell_type": "code",
   "execution_count": 16,
   "metadata": {
    "autoscroll": false,
    "ein.hycell": false,
    "ein.tags": "worksheet-0",
    "pycharm": {
     "is_executing": true
    },
    "slideshow": {
     "slide_type": "-"
    }
   },
   "outputs": [
    {
     "name": "stdout",
     "output_type": "stream",
     "text": [
      "train:  (50000, 3072) (50000,)\n",
      "test:   (10000, 3072) (10000,)\n"
     ]
    }
   ],
   "source": [
    "# get data\n",
    "data_dir=\"../cifar-10-batches-py/\"\n",
    "'''\n",
    "data files contain three binary part.\n",
    "batch_label: which represents the index of the dataset.\n",
    "labels: which represents the category of the images, \n",
    "        the index of the row is also the row index of the image.\n",
    "data: which is the image data that has 3072 columns, \n",
    "        the first 1024 columns represent the red channels of the 32x32 image, \n",
    "        the next 1024 columns represent the green one, \n",
    "        the last represent the blue one.\n",
    "filenames: which is the name of the images.\n",
    "'''\n",
    "def unpickle(file):\n",
    "    import pickle\n",
    "    with open(file, 'rb') as fo:\n",
    "        dict = pickle.load(fo, encoding='bytes')\n",
    "    return dict\n",
    "\n",
    "def get_batch_data():\n",
    "    batch_train=[]\n",
    "    for i in range(1, 6):\n",
    "        batch_train.append(unpickle(data_dir + \"data_batch_\" + i.__str__()))\n",
    "\n",
    "    batch_test = unpickle(data_dir + \"test_batch\")\n",
    "    return batch_train, batch_test\n",
    "\n",
    "train_list,test_list= get_batch_data()\n",
    "train_X = np.array(train_list[0].get(b'data'))\n",
    "train_y=np.array(train_list[0].get(b'labels'))\n",
    "for i in range(1,len(train_list)):\n",
    "    train_X = np.concatenate((train_X,train_list[i].get(b'data')),axis=0)\n",
    "    train_y = np.concatenate((train_y,train_list[i].get(b'labels')),axis=0)\n",
    "X = train_X/500\n",
    "test_X = np.array(test_list.get(b'data'))/500\n",
    "test_y = np.array(test_list.get(b'labels'))\n",
    "print(\"train: \",train_X.shape,train_y.shape)\n",
    "print(\"test:  \",test_X.shape,test_y.shape)\n",
    "\n",
    "# hog data\n",
    "# train_X, train_y, test_X, test_y = get_all_data()\n",
    "# train_X, train_y, test_X, test_y = get_hog_data(train_X, train_y, test_X, test_y, orientations=9, pixels_per_cell=(4, 4), cells_per_block=(4, 4))\n",
    "# print(\"hog has been done.\")\n"
   ]
  },
  {
   "cell_type": "code",
   "execution_count": 17,
   "metadata": {
    "autoscroll": false,
    "ein.hycell": false,
    "ein.tags": "worksheet-0",
    "pycharm": {
     "is_executing": true
    },
    "slideshow": {
     "slide_type": "-"
    }
   },
   "outputs": [],
   "source": [
    "def predict(m,x):\n",
    "    W=m['W']\n",
    "    b=m['b']\n",
    "    z=np.matmul(x,W)+b\n",
    "    exp_scores=np.exp(z)\n",
    "    a=exp_scores / np.sum(exp_scores,axis=1,keepdims=True)\n",
    "    return np.argmax(a,1)\n",
    "\n",
    "Y=np.eye(train_y.shape[0],train_y.max()-train_y.min()+1)[train_y]\n",
    "num_sample=X.shape[0]\n",
    "input_dims=X.shape[1]\n",
    "output_dims=Y.shape[1]"
   ]
  },
  {
   "cell_type": "code",
   "execution_count": 29,
   "metadata": {
    "autoscroll": false,
    "ein.hycell": false,
    "ein.tags": "worksheet-0",
    "pycharm": {
     "is_executing": true
    },
    "slideshow": {
     "slide_type": "-"
    }
   },
   "outputs": [],
   "source": [
    "W=np.random.randn(input_dims,output_dims)/10\n",
    "b=np.zeros((1,output_dims))\n",
    "model={'W':W,'b':b}\n",
    "\n",
    "test_acc=[]\n",
    "train_acc=[]"
   ]
  },
  {
   "cell_type": "code",
   "execution_count": 38,
   "metadata": {
    "autoscroll": false,
    "ein.hycell": false,
    "ein.tags": "worksheet-0",
    "pycharm": {
     "is_executing": true
    },
    "slideshow": {
     "slide_type": "-"
    }
   },
   "outputs": [],
   "source": [
    "# hyper \n",
    "#0.0005 0.0001 0.00002\n",
    "# 1 2 1 1\n",
    "#学习速率\n",
    "epsilon = 0.000004\n",
    "#正则化系数\n",
    "reg_lambda = 2\n",
    "#一次训练过几遍数据\n",
    "epochs = 1\n",
    "#mini batch的batch大小\n",
    "batch_size = 1000"
   ]
  },
  {
   "cell_type": "code",
   "execution_count": 39,
   "metadata": {
    "autoscroll": false,
    "ein.hycell": false,
    "ein.tags": "worksheet-0",
    "pycharm": {
     "is_executing": true
    },
    "scrolled": false,
    "slideshow": {
     "slide_type": "-"
    }
   },
   "outputs": [
    {
     "name": "stdout",
     "output_type": "stream",
     "text": [
      "test acc:  0.3496\n",
      "train acc:  0.35438\n",
      "\n",
      "\n",
      "test acc:  0.3502\n",
      "train acc:  0.35446\n",
      "\n",
      "\n",
      "test acc:  0.3498\n",
      "train acc:  0.35458\n",
      "\n",
      "\n",
      "test acc:  0.3504\n",
      "train acc:  0.35486\n",
      "\n",
      "\n",
      "test acc:  0.3506\n",
      "train acc:  0.35488\n",
      "\n",
      "\n",
      "test acc:  0.35\n",
      "train acc:  0.35518\n",
      "\n",
      "\n",
      "test acc:  0.3499\n",
      "train acc:  0.35504\n",
      "\n",
      "\n",
      "test acc:  0.3504\n",
      "train acc:  0.35502\n",
      "\n",
      "\n",
      "test acc:  0.3505\n",
      "train acc:  0.35542\n",
      "\n",
      "\n",
      "test acc:  0.3502\n",
      "train acc:  0.35552\n",
      "\n",
      "\n",
      "test acc:  0.3504\n",
      "train acc:  0.35504\n",
      "\n",
      "\n",
      "test acc:  0.3505\n",
      "train acc:  0.35548\n",
      "\n",
      "\n",
      "test acc:  0.3498\n",
      "train acc:  0.35594\n",
      "\n",
      "\n",
      "test acc:  0.3497\n",
      "train acc:  0.35596\n",
      "\n",
      "\n",
      "test acc:  0.3508\n",
      "train acc:  0.35574\n",
      "\n",
      "\n",
      "test acc:  0.3509\n",
      "train acc:  0.35582\n",
      "\n",
      "\n",
      "test acc:  0.3504\n",
      "train acc:  0.3556\n",
      "\n",
      "\n",
      "test acc:  0.3504\n",
      "train acc:  0.35586\n",
      "\n",
      "\n",
      "test acc:  0.351\n",
      "train acc:  0.35594\n",
      "\n",
      "\n",
      "test acc:  0.3508\n",
      "train acc:  0.3559\n",
      "\n",
      "\n",
      "test acc:  0.3505\n",
      "train acc:  0.35562\n",
      "\n",
      "\n",
      "test acc:  0.3505\n",
      "train acc:  0.35606\n",
      "\n",
      "\n",
      "test acc:  0.3505\n",
      "train acc:  0.35594\n",
      "\n",
      "\n",
      "test acc:  0.3499\n",
      "train acc:  0.3557\n",
      "\n",
      "\n",
      "test acc:  0.35\n",
      "train acc:  0.35566\n",
      "\n",
      "\n",
      "test acc:  0.3507\n",
      "train acc:  0.356\n",
      "\n",
      "\n",
      "test acc:  0.3499\n",
      "train acc:  0.35576\n",
      "\n",
      "\n",
      "test acc:  0.3508\n",
      "train acc:  0.35568\n",
      "\n",
      "\n",
      "test acc:  0.3508\n",
      "train acc:  0.3558\n",
      "\n",
      "\n",
      "test acc:  0.3513\n",
      "train acc:  0.35592\n",
      "\n",
      "\n",
      "test acc:  0.3511\n",
      "train acc:  0.3561\n",
      "\n",
      "\n",
      "test acc:  0.3516\n",
      "train acc:  0.35598\n",
      "\n",
      "\n",
      "test acc:  0.3515\n",
      "train acc:  0.35586\n",
      "\n",
      "\n",
      "test acc:  0.3518\n",
      "train acc:  0.35618\n",
      "\n",
      "\n",
      "test acc:  0.352\n",
      "train acc:  0.35578\n",
      "\n",
      "\n",
      "test acc:  0.3519\n",
      "train acc:  0.35614\n",
      "\n",
      "\n",
      "test acc:  0.3513\n",
      "train acc:  0.35594\n",
      "\n",
      "\n",
      "test acc:  0.3514\n",
      "train acc:  0.35594\n",
      "\n",
      "\n",
      "test acc:  0.3516\n",
      "train acc:  0.35598\n",
      "\n",
      "\n",
      "test acc:  0.352\n",
      "train acc:  0.35626\n",
      "\n",
      "\n",
      "test acc:  0.3516\n",
      "train acc:  0.35618\n",
      "\n",
      "\n",
      "test acc:  0.3518\n",
      "train acc:  0.35652\n",
      "\n",
      "\n",
      "test acc:  0.3513\n",
      "train acc:  0.3564\n",
      "\n",
      "\n",
      "test acc:  0.3519\n",
      "train acc:  0.35642\n",
      "\n",
      "\n",
      "test acc:  0.3515\n",
      "train acc:  0.35624\n",
      "\n",
      "\n",
      "test acc:  0.3513\n",
      "train acc:  0.35598\n",
      "\n",
      "\n",
      "test acc:  0.3515\n",
      "train acc:  0.35602\n",
      "\n",
      "\n",
      "test acc:  0.3517\n",
      "train acc:  0.35604\n",
      "\n",
      "\n",
      "test acc:  0.3514\n",
      "train acc:  0.35592\n",
      "\n",
      "\n",
      "test acc:  0.3511\n",
      "train acc:  0.35584\n",
      "\n",
      "\n"
     ]
    }
   ],
   "source": [
    "W=model['W']\n",
    "b=model['b']\n",
    "n=ceil(num_sample / batch_size)\n",
    "for i in range(epochs):\n",
    "    for j in range(n):\n",
    "        xx=X[batch_size*j:batch_size*(j+1)]\n",
    "        yy=train_y[batch_size*j:batch_size*(j+1)]\n",
    "        zz=np.matmul(xx,W)+b\n",
    "        exp_scores=np.exp(zz)\n",
    "        A = exp_scores / np.sum(exp_scores,axis=1,keepdims=True)\n",
    "        delta = A\n",
    "        delta[range(len(yy)),yy]-=1\n",
    "        dW=np.matmul(xx.T,delta)\n",
    "        db=np.sum(delta,axis=0,keepdims=True)\n",
    "        dW+=reg_lambda*W\n",
    "        W-=epsilon*dW\n",
    "        b-=epsilon*db\n",
    "        test_acc.append(np.equal(predict(model,test_X),test_y).mean())\n",
    "        train_acc.append(np.equal(predict(model,X),train_y).mean())\n",
    "        print(\"test acc: \",test_acc[-1])\n",
    "        print(\"train acc: \",train_acc[-1])\n",
    "        print(\"\\n\")"
   ]
  },
  {
   "cell_type": "code",
   "execution_count": 41,
   "metadata": {
    "pycharm": {
     "is_executing": true
    }
   },
   "outputs": [
    {
     "data": {
      "text/plain": [
       "250"
      ]
     },
     "execution_count": 41,
     "metadata": {},
     "output_type": "execute_result"
    }
   ],
   "source": [
    "xa=np.linspace(1,250,250)\n",
    "len(test_acc)"
   ]
  },
  {
   "cell_type": "code",
   "execution_count": 45,
   "metadata": {},
   "outputs": [
    {
     "data": {
      "text/plain": [
       "[<matplotlib.lines.Line2D at 0x7efd333596d8>]"
      ]
     },
     "execution_count": 45,
     "metadata": {},
     "output_type": "execute_result"
    },
    {
     "data": {
      "image/png": "[encoded data removed]",
      "text/plain": [
       "<Figure size 432x288 with 1 Axes>"
      ]
     },
     "metadata": {
      "needs_background": "light"
     },
     "output_type": "display_data"
    }
   ],
   "source": [
    "plt.plot(xa,test_acc)"
   ]
  }
 ],
 "metadata": {
  "kernelspec": {
   "display_name": "Python 3",
   "language": "python",
   "name": "python3"
  },
  "language_info": {
   "codemirror_mode": {
    "name": "ipython",
    "version": 3
   },
   "file_extension": ".py",
   "mimetype": "text/x-python",
   "name": "python",
   "nbconvert_exporter": "python",
   "pygments_lexer": "ipython3",
   "version": "3.6.7"
  },
  "name": "test.ipynb",
  "pycharm": {
   "stem_cell": {
    "cell_type": "raw",
    "metadata": {
     "collapsed": false
    },
    "source": []
   }
  }
 },
 "nbformat": 4,
 "nbformat_minor": 2
}
