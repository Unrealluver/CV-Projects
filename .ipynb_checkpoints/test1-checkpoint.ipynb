{
 "cells": [
  {
   "cell_type": "code",
   "execution_count": 1,
   "metadata": {
    "autoscroll": false,
    "ein.hycell": false,
    "ein.tags": "worksheet-0",
    "slideshow": {
     "slide_type": "-"
    }
   },
   "outputs": [],
   "source": [
    "import sys\n",
    "sys.path.append('mnist')\n",
    "import mnist\n",
    "import numpy as np\n",
    "import matplotlib.pyplot as plt\n",
    "from math import *\n",
    "from random import random"
   ]
  },
  {
   "cell_type": "code",
   "execution_count": 2,
   "metadata": {
    "autoscroll": false,
    "ein.hycell": false,
    "ein.tags": "worksheet-0",
    "slideshow": {
     "slide_type": "-"
    }
   },
   "outputs": [],
   "source": [
    "import cv2\n",
    "from random import random"
   ]
  },
  {
   "cell_type": "code",
   "execution_count": 3,
   "metadata": {
    "autoscroll": false,
    "ein.hycell": false,
    "ein.tags": "worksheet-0",
    "slideshow": {
     "slide_type": "-"
    }
   },
   "outputs": [],
   "source": [
    "train_images=mnist.train_images().astype(np.float32)\n",
    "train_labels=mnist.train_labels().astype(np.integer)\n",
    "test_images=mnist.test_images().astype(np.float32)\n",
    "test_labels=mnist.test_labels().astype(np.integer)\n",
    "train_images=train_images.reshape(train_images.shape[0],train_images.shape[1]*train_images.shape[2])\n",
    "test_images=test_images.reshape(test_images.shape[0],test_images.shape[1]*test_images.shape[2])\n",
    "train_images/=255.0\n",
    "test_images/=255.0\n"
   ]
  },
  {
   "cell_type": "code",
   "execution_count": 4,
   "metadata": {
    "autoscroll": false,
    "ein.hycell": false,
    "ein.tags": "worksheet-0",
    "slideshow": {
     "slide_type": "-"
    }
   },
   "outputs": [],
   "source": [
    "def rotate_img(img):\n",
    "    img=img.reshape([28,28])\n",
    "    rotate_mat=cv2.getRotationMatrix2D((14,14),random()*30-15,1)\n",
    "    return cv2.warpAffine(img,rotate_mat,(28,28)).reshape([784])"
   ]
  },
  {
   "cell_type": "code",
   "execution_count": 5,
   "metadata": {
    "autoscroll": false,
    "ein.hycell": false,
    "ein.tags": "worksheet-0",
    "slideshow": {
     "slide_type": "-"
    }
   },
   "outputs": [],
   "source": [
    "train_images_with_noise=train_images+np.random.randn(train_images.shape[0],train_images.shape[1])/5\n",
    "train_images_with_rotate=[]\n",
    "for i in range(train_images.shape[0]):\n",
    "    train_images_with_rotate.append(rotate_img(train_images[i]))\n",
    "train_images_with_rotate=np.array(train_images_with_rotate)\n",
    "    "
   ]
  },
  {
   "cell_type": "code",
   "execution_count": 6,
   "metadata": {
    "autoscroll": false,
    "ein.hycell": false,
    "ein.tags": "worksheet-0",
    "slideshow": {
     "slide_type": "-"
    }
   },
   "outputs": [],
   "source": [
    "for i in range(10):\n",
    "    cv2.imshow(\"test\",rotate_img(train_images[0]))\n",
    "    cv2.waitKey(500)\n",
    "cv2.destroyAllWindows()"
   ]
  },
  {
   "cell_type": "code",
   "execution_count": 7,
   "metadata": {
    "autoscroll": false,
    "ein.hycell": false,
    "ein.tags": "worksheet-0",
    "slideshow": {
     "slide_type": "-"
    }
   },
   "outputs": [],
   "source": [
    "def make_one_hot(data):\n",
    "    return (np.arange(10)==data[:,None]).astype(np.integer)"
   ]
  },
  {
   "cell_type": "code",
   "execution_count": 8,
   "metadata": {
    "autoscroll": false,
    "ein.hycell": false,
    "ein.tags": "worksheet-0",
    "slideshow": {
     "slide_type": "-"
    }
   },
   "outputs": [],
   "source": [
    "onehot_train_labels=make_one_hot(train_labels)"
   ]
  },
  {
   "cell_type": "code",
   "execution_count": 30,
   "metadata": {
    "autoscroll": false,
    "ein.hycell": false,
    "ein.tags": "worksheet-0",
    "slideshow": {
     "slide_type": "-"
    }
   },
   "outputs": [],
   "source": [
    "nn_hdim=[625,625,625,625,625]\n",
    "input_dims=train_images.shape[1]\n",
    "output_dims=10\n",
    "all_dim=[input_dims]+nn_hdim+[output_dims]\n",
    "model={'W':[],'b':[],'hd':nn_hdim}\n",
    "W=model['W']\n",
    "b=model['b']\n",
    "for i in range(len(nn_hdim)+1):\n",
    "    W.append(np.random.randn(all_dim[i],all_dim[i+1])/np.sqrt(all_dim[i+1]))\n",
    "    b.append(np.zeros((1,all_dim[i+1])))"
   ]
  },
  {
   "cell_type": "code",
   "execution_count": 10,
   "metadata": {
    "autoscroll": false,
    "ein.hycell": false,
    "ein.tags": "worksheet-0",
    "slideshow": {
     "slide_type": "-"
    }
   },
   "outputs": [],
   "source": [
    "def calculate_loss(model, X, y):\n",
    "    num_examples = X.shape[0]\n",
    "    batch_size=num_examples\n",
    "    t=ceil(num_examples/batch_size)\n",
    "    y_=[]\n",
    "    for j in range(t):\n",
    "        a=X[batch_size*j:batch_size*(j+1)]\n",
    "        for k in range(len(nn_hdim)+1):\n",
    "            z=np.matmul(a,model['W'][k])+model['b'][k]\n",
    "            if k!=(len(nn_hdim)):\n",
    "                a=(abs(z)+z)/2\n",
    "            else:\n",
    "                exp_scores=np.exp(z)\n",
    "                a=exp_scores/np.sum(exp_scores,axis=1,keepdims=True)\n",
    "        if len(y_)==0:\n",
    "            y_=a\n",
    "        else:\n",
    "            y_=np.vstack([y_,a])\n",
    "    print(len(y_))\n",
    "    print(len(y))        \n",
    "    corect_logprobs = -np.log(y_[range(num_examples), y]+1e-10)\n",
    "    data_loss = np.sum(corect_logprobs)\n",
    "    # Add regulatization term to loss (optional)\n",
    "    for j in model['W']:\n",
    "        data_loss+=(reg_lambda/2)*np.sum(np.square(j))\n",
    "    return (1. / num_examples) * data_loss\n"
   ]
  },
  {
   "cell_type": "code",
   "execution_count": 11,
   "metadata": {
    "autoscroll": false,
    "ein.hycell": false,
    "ein.tags": "worksheet-0",
    "slideshow": {
     "slide_type": "-"
    }
   },
   "outputs": [],
   "source": [
    "def predict(model,x):\n",
    "    a=x\n",
    "    for j in range(len(nn_hdim)+1):\n",
    "        z=np.matmul(a,model['W'][j])+model['b'][j]\n",
    "        if j!=len(nn_hdim):\n",
    "            a=(abs(z)+z)/2\n",
    "        else:\n",
    "            exp_scores=np.exp(z)\n",
    "            a=exp_scores/np.sum(exp_scores,axis=1,keepdims=True)\n",
    "    return np.argmax(a,1)"
   ]
  },
  {
   "cell_type": "code",
   "execution_count": null,
   "metadata": {
    "autoscroll": false,
    "ein.hycell": false,
    "ein.tags": "worksheet-0",
    "slideshow": {
     "slide_type": "-"
    }
   },
   "outputs": [
    {
     "name": "stdout",
     "output_type": "stream",
     "text": [
      "0.9814\n",
      "0.9811\n"
     ]
    }
   ],
   "source": [
    "n=ceil(train_images.shape[0]/batch_size)\n",
    "w_num=len(nn_hdim)\n",
    "W=model['W']\n",
    "b=model['b']\n",
    "for i in range(epochs):\n",
    "    for j in range(n*3):\n",
    "        if j<n:\n",
    "            xx=train_images[batch_size*(j%n):batch_size*((j+1)%n)]\n",
    "        elif j<2*n:\n",
    "            xx=train_images_with_noise[batch_size*(j%n):batch_size*((j+1)%n)]\n",
    "        elif j<3*n:\n",
    "            xx=train_images_with_rotate[batch_size*(j%n):batch_size*((j+1)%n)]\n",
    "            \n",
    "        yy_onehot=onehot_train_labels[batch_size*(j%n):batch_size*((j+1)%n)]\n",
    "        #yy=train_images[batch_size*j:batch_size*(j+1)]\n",
    "        dW=[]\n",
    "        db=[]\n",
    "        z=[]\n",
    "        a=[]\n",
    "        drop=[]\n",
    "        a.append(xx)\n",
    "        for k in range(w_num+1):\n",
    "            z_temp=np.matmul(a[-1],W[k])+b[k]\n",
    "            if k!=w_num:\n",
    "                drop.append(np.less(np.random.uniform(size=z_temp.shape),remain_pro)/remain_pro)\n",
    "                z_temp*=drop[-1]\n",
    "            z.append(z_temp)\n",
    "            if k!=w_num:\n",
    "                a.append((abs(z_temp)+z_temp)/2)\n",
    "            else:\n",
    "                exp_scores=np.exp(z_temp)\n",
    "                a_temp=exp_scores/np.clip(np.sum(exp_scores,axis=1,keepdims=True),a_min=1e-10,a_max=None)\n",
    "                if np.isnan(a_temp).any():\n",
    "                    raise ValueError('there is a nan')\n",
    "                a.append(a_temp)\n",
    "        # a: xx a1-an\n",
    "        # z: z1-zn        \n",
    "        for k in range(w_num+1):\n",
    "            if k==0:\n",
    "                delta=a[-1]-yy_onehot\n",
    "            else:\n",
    "                delta=np.matmul(delta,W[w_num+1-k].T)*((np.sign(a[w_num+1-k])+1.)/2.)*drop[w_num-k]\n",
    "            dW.append(np.matmul(a[w_num-k].T,delta))\n",
    "            db.append(np.sum(delta,axis=0))\n",
    "            #先是Wn,才识W1\n",
    "        temp_reg_lambda=reg_lambda\n",
    "        for k in dW:\n",
    "            k+=temp_reg_lambda*k\n",
    "            temp_reg_lambda*=1.5\n",
    "        for i in range(w_num+1):\n",
    "            W[i]-=learning_rate*dW[w_num-i]\n",
    "            b[i]-=learning_rate*db[w_num-i]\n",
    "    if i%1==0:\n",
    "        yp=predict(model,test_images)\n",
    "        one_acc=np.equal(yp,test_labels).mean()    \n",
    "        print(one_acc)"
   ]
  },
  {
   "cell_type": "code",
   "execution_count": 41,
   "metadata": {
    "autoscroll": false,
    "ein.hycell": false,
    "ein.tags": "worksheet-0",
    "slideshow": {
     "slide_type": "-"
    }
   },
   "outputs": [],
   "source": [
    "learning_rate=0.00002\n",
    "reg_lambda=0.00008\n",
    "epochs=5\n",
    "batch_size=100\n",
    "remain_pro=0.85"
   ]
  },
  {
   "cell_type": "code",
   "execution_count": 36,
   "metadata": {
    "autoscroll": false,
    "ein.hycell": false,
    "ein.tags": "worksheet-0",
    "slideshow": {
     "slide_type": "-"
    }
   },
   "outputs": [
    {
     "name": "stdout",
     "output_type": "stream",
     "text": [
      "0.979\n"
     ]
    }
   ],
   "source": [
    "yp=predict(model,test_images)\n",
    "print(np.equal(yp,test_labels).mean())"
   ]
  }
 ],
 "metadata": {
  "kernelspec": {
   "display_name": "Python 3",
   "language": "python",
   "name": "python3"
  },
  "language_info": {
   "codemirror_mode": {
    "name": "ipython",
    "version": 3
   },
   "file_extension": ".py",
   "mimetype": "text/x-python",
   "name": "python",
   "nbconvert_exporter": "python",
   "pygments_lexer": "ipython3",
   "version": "3.6.7"
  },
  "name": "test1.ipynb"
 },
 "nbformat": 4,
 "nbformat_minor": 2
}
