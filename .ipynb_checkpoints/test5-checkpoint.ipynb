{
 "cells": [
  {
   "cell_type": "code",
   "execution_count": 4,
   "metadata": {
    "autoscroll": false,
    "ein.hycell": false,
    "ein.tags": "worksheet-0",
    "slideshow": {
     "slide_type": "-"
    }
   },
   "outputs": [],
   "source": [
    "# %% 1\n",
    "# Package imports\n",
    "import matplotlib.pyplot as plt\n",
    "import numpy as np\n",
    "import matplotlib\n",
    "from pprint import pprint\n",
    "import pylab as pl\n",
    "from math import *\n",
    "from random import random\n"
   ]
  },
  {
   "cell_type": "code",
   "execution_count": 5,
   "metadata": {
    "autoscroll": false,
    "ein.hycell": false,
    "ein.tags": "worksheet-0",
    "slideshow": {
     "slide_type": "-"
    }
   },
   "outputs": [],
   "source": [
    "num_train=len(newsgroups_train.data)\n",
    "num_test=len(newsgroups_test.data)\n",
    "vectorizer = TfidfVectorizer(max_features=1000)\n",
    "X = vectorizer.fit_transform( newsgroups_train.data + newsgroups_test.data )"
   ]
  },
  {
   "cell_type": "code",
   "execution_count": 6,
   "metadata": {
    "autoscroll": false,
    "ein.hycell": false,
    "ein.tags": "worksheet-0",
    "slideshow": {
     "slide_type": "-"
    }
   },
   "outputs": [],
   "source": [
    "X_train=X[0:num_train,:].A\n",
    "X_test=X[num_train:num_train+num_test,:].A"
   ]
  },
  {
   "cell_type": "code",
   "execution_count": 7,
   "metadata": {
    "autoscroll": false,
    "ein.hycell": false,
    "ein.tags": "worksheet-0",
    "slideshow": {
     "slide_type": "-"
    }
   },
   "outputs": [],
   "source": [
    "Y_train=newsgroups_train.target\n",
    "Y_test = newsgroups_test.target"
   ]
  },
  {
   "cell_type": "code",
   "execution_count": 8,
   "metadata": {
    "autoscroll": false,
    "ein.hycell": false,
    "ein.tags": "worksheet-0",
    "slideshow": {
     "slide_type": "-"
    }
   },
   "outputs": [
    {
     "name": "stdout",
     "output_type": "stream",
     "text": [
      "(2034, 1000) (2034,)\n",
      "(1353, 1000) (1353,)\n"
     ]
    }
   ],
   "source": [
    "print(X_train.shape, Y_train.shape)\n",
    "print(X_test.shape, Y_test.shape)\n",
    "num_examples, input_dim = X_train.shape"
   ]
  },
  {
   "cell_type": "code",
   "execution_count": 9,
   "metadata": {
    "autoscroll": false,
    "ein.hycell": false,
    "ein.tags": "worksheet-0",
    "slideshow": {
     "slide_type": "-"
    }
   },
   "outputs": [],
   "source": [
    "def calculate_loss(model, X, y):\n",
    "    num_examples = X.shape[0]\n",
    "    W1=model['W1']\n",
    "    b1=model['b1']\n",
    "    W2=model['W2']\n",
    "    b2=model['b2']\n",
    "    W3=model['W3']\n",
    "    b3=model['b3']\n",
    "    batch_size=64\n",
    "    t=ceil(num_examples/batch_size)\n",
    "    y_=[]\n",
    "    for j in range(t):\n",
    "        xx=X[batch_size*j:batch_size*(j+1)]    \n",
    "        z1 = np.matmul(xx,W1)+ b1\n",
    "        a1 = (abs(z1)+z1)/2                              \n",
    "        z2 = np.matmul(a1,W2) + b2\n",
    "        a2 = (abs(z2)+z2)/2                           \n",
    "        z3 = np.matmul(a2,W3) + b3                    \n",
    "        exp_scores = np.exp(z3)                     \n",
    "        a3 = exp_scores / np.sum(exp_scores, axis=1, keepdims=True)\n",
    "        if len(y_)==0:\n",
    "            y_=a3\n",
    "        else:\n",
    "            y_=np.vstack([y_,a3])\n",
    "    print(len(y_))\n",
    "    print(len(y))        \n",
    "    corect_logprobs = -np.log(y_[range(num_examples), y]+1e-10)\n",
    "    data_loss = np.sum(corect_logprobs)\n",
    "    # Add regulatization term to loss (optional)\n",
    "    data_loss += (reg_lambda / 2) * (np.sum(np.square(W1)) + np.sum(np.square(W2))+np.sum(np.square(W2)))\n",
    "    return (1. / num_examples) * data_loss"
   ]
  },
  {
   "cell_type": "code",
   "execution_count": 10,
   "metadata": {
    "autoscroll": false,
    "ein.hycell": false,
    "ein.tags": "worksheet-0",
    "slideshow": {
     "slide_type": "-"
    }
   },
   "outputs": [],
   "source": [
    "def predict(model,x):\n",
    "    W1=model['W1']\n",
    "    b1=model['b1']\n",
    "    W2=model['W2']\n",
    "    b2=model['b2']\n",
    "    W3=model['W3']\n",
    "    b3=model['b3']\n",
    "\n",
    "    z1 = np.matmul(x,W1)+ b1              \n",
    "    a1 = (abs(z1)+z1)/2                                 \n",
    "    z2 = np.matmul(a1,W2) + b2              \n",
    "    a2 = (abs(z2)+z2)/2                              \n",
    "    z3 = np.matmul(a2,W3) + b3                    \n",
    "    exp_scores = np.exp(z3)\n",
    "    a3 = exp_scores / np.sum(exp_scores, axis=1, keepdims=True)\n",
    "    return np.argmax(a3,1)"
   ]
  },
  {
   "cell_type": "code",
   "execution_count": 18,
   "metadata": {
    "autoscroll": false,
    "ein.hycell": false,
    "ein.tags": "worksheet-0",
    "slideshow": {
     "slide_type": "-"
    }
   },
   "outputs": [
    {
     "name": "stdout",
     "output_type": "stream",
     "text": [
      "(2034, 4)\n",
      "i:  1000  o:  4\n"
     ]
    }
   ],
   "source": [
    "X=X_train\n",
    "y=Y_train\n",
    "nn_hdim=[70,70]\n",
    "num_sample=X.shape[0]\n",
    "input_dims=X.shape[1]\n",
    "one_hot_y=np.eye(y.shape[0],y.max()-y.min()+1)[y]\n",
    "print(one_hot_y.shape)\n",
    "output_dims=one_hot_y.shape[1]\n",
    "print('i: ',input_dims,' o: ',output_dims)\n",
    "model={}\n",
    "W1=np.random.randn(input_dims,nn_hdim[0])/np.sqrt(nn_hdim[0])\n",
    "b1=np.zeros((1,nn_hdim[0]))\n",
    "W2=np.random.randn(nn_hdim[0],nn_hdim[1])/np.sqrt(nn_hdim[1])\n",
    "b2=np.zeros((1,nn_hdim[1]))\n",
    "W3=np.random.randn(nn_hdim[1],output_dims)/np.sqrt(output_dims)\n",
    "b3=np.zeros((1,output_dims))\n",
    "model={'W1':W1,'b1':b1,'W2':W2,'b2':b2,'W3':W3,'b3':b3}\n",
    "batch_size=128"
   ]
  },
  {
   "cell_type": "code",
   "execution_count": 19,
   "metadata": {
    "autoscroll": false,
    "ein.hycell": false,
    "ein.tags": "worksheet-0",
    "slideshow": {
     "slide_type": "-"
    }
   },
   "outputs": [],
   "source": [
    "acc=[]"
   ]
  },
  {
   "cell_type": "code",
   "execution_count": 20,
   "metadata": {
    "autoscroll": false,
    "ein.hycell": false,
    "ein.tags": "worksheet-0",
    "slideshow": {
     "slide_type": "-"
    }
   },
   "outputs": [],
   "source": [
    "epsilon = 0.005\n",
    "reg_lambda = 0.005\n",
    "epochs =200\n",
    "batch_size=50\n",
    "remain_pro=0.7"
   ]
  },
  {
   "cell_type": "code",
   "execution_count": 21,
   "metadata": {
    "autoscroll": false,
    "ein.hycell": false,
    "ein.tags": "worksheet-0",
    "slideshow": {
     "slide_type": "-"
    }
   },
   "outputs": [],
   "source": [
    "n=ceil(num_examples/batch_size)\n",
    "for i in range(epochs):\n",
    "    if i%5==0:\n",
    "        yp=predict(model,X_test)\n",
    "        acc.append(np.equal(yp,Y_test).mean())\n",
    "    for j in range(n):\n",
    "        xx=X[batch_size*j:batch_size*(j+1)]\n",
    "        yy=y[batch_size*j:batch_size*(j+1)]\n",
    "        z1=np.matmul(xx,W1)+b1\n",
    "        for t1 in range(z1.shape[0]):\n",
    "            for t2 in range(z1.shape[1]):\n",
    "                if random()<remain_pro:\n",
    "                    # remain\n",
    "                    z1[t1][t2]=z1[t1][t2]/remain_pro\n",
    "                else:\n",
    "                    z1[t1][t2]=0\n",
    "        a1=(abs(z1)+z1)/2\n",
    "        z2=np.matmul(a1,W2)+b2\n",
    "        for t1 in range(z2.shape[0]):\n",
    "            for t2 in range(z2.shape[1]):\n",
    "                if random()<remain_pro:\n",
    "                    # remain\n",
    "                    z2[t1][t2]=z2[t1][t2]/remain_pro\n",
    "                else:\n",
    "                    z2[t1][t2]=0\n",
    "        a2=(abs(z2)+z2)/2\n",
    "        z3=np.matmul(a2,W3)+b3\n",
    "        exp_scores=np.exp(z3)\n",
    "        a3=exp_scores/np.sum(exp_scores,axis=1,keepdims=True)\n",
    "        delta3=a3\n",
    "        delta3[range(len(yy)),yy]-=1 # ^y -y\n",
    "        dW3=np.matmul(a2.T,delta3)\n",
    "        db3=np.sum(delta3,axis=0,keepdims=True)\n",
    "        #delta2=np.matmul(delta3,W3.T)*(1-np.power(a2,2))\n",
    "        temp=[[0 if temp2<=0 else 1 for temp2 in temp1] for temp1 in a2]\n",
    "        delta2=np.matmul(delta3,W3.T)*np.array(temp)\n",
    "        dW2=np.matmul(a1.T,delta2)\n",
    "        db2=np.sum(delta2,axis=0)\n",
    "        #delta1=np.matmul(delta2,W2.T)*(1-np.power(a1,2))\n",
    "        temp=[[0 if temp2<=0 else 1 for temp2 in temp1] for temp1 in a1]\n",
    "        delta1=np.matmul(delta2,W2.T)*np.array(temp)\n",
    "        dW1=np.matmul(xx.T,delta1)\n",
    "        db1=np.sum(delta1,axis=0)\n",
    "\n",
    "        dW3+=reg_lambda*W3\n",
    "        dW2+=reg_lambda*W2\n",
    "        dW1+=reg_lambda*W1\n",
    "\n",
    "        W1-=epsilon*dW1\n",
    "        b1-=epsilon*db1\n",
    "        W2-=epsilon*dW2\n",
    "        b2-=epsilon*db2\n",
    "        W3-=epsilon*dW3\n",
    "        b3-=epsilon*db3"
   ]
  },
  {
   "cell_type": "code",
   "execution_count": 22,
   "metadata": {
    "autoscroll": false,
    "ein.hycell": false,
    "ein.tags": "worksheet-0",
    "slideshow": {
     "slide_type": "-"
    }
   },
   "outputs": [
    {
     "name": "stdout",
     "output_type": "stream",
     "text": [
      "0.844789356984479\n"
     ]
    }
   ],
   "source": [
    "yp=predict(model,X_test)\n",
    "print(np.equal(yp,Y_test).mean())"
   ]
  },
  {
   "cell_type": "code",
   "execution_count": 23,
   "metadata": {
    "autoscroll": false,
    "ein.hycell": false,
    "ein.tags": "worksheet-0",
    "slideshow": {
     "slide_type": "-"
    }
   },
   "outputs": [
    {
     "data": {
      "text/plain": [
       "40"
      ]
     },
     "execution_count": 23,
     "metadata": {},
     "output_type": "execute_result"
    }
   ],
   "source": [
    "len(acc)"
   ]
  },
  {
   "cell_type": "code",
   "execution_count": 24,
   "metadata": {
    "autoscroll": false,
    "ein.hycell": false,
    "ein.tags": "worksheet-0",
    "slideshow": {
     "slide_type": "-"
    }
   },
   "outputs": [],
   "source": [
    "x_axis=np.array([5*i for i in range(len(acc))])\n",
    "acc=np.array(acc)"
   ]
  },
  {
   "cell_type": "code",
   "execution_count": 25,
   "metadata": {
    "autoscroll": false,
    "ein.hycell": false,
    "ein.tags": "worksheet-0",
    "slideshow": {
     "slide_type": "-"
    }
   },
   "outputs": [
    {
     "data": {
      "image/png": "[encoded data removed]",
      "text/plain": [
       "<Figure size 432x288 with 1 Axes>"
      ]
     },
     "metadata": {},
     "output_type": "display_data"
    }
   ],
   "source": [
    "plt.xlabel(\"epoch times\")\n",
    "plt.ylabel(\"precision\")\n",
    "plt.plot(x_axis,acc)\n",
    "plt.savefig(\"test5.png\")"
   ]
  },
  {
   "cell_type": "code",
   "execution_count": 15,
   "metadata": {
    "autoscroll": false,
    "ein.hycell": false,
    "ein.tags": "worksheet-0",
    "slideshow": {
     "slide_type": "-"
    }
   },
   "outputs": [
    {
     "data": {
      "image/png": "[encoded data removed]",
      "text/plain": [
       "<Figure size 432x288 with 1 Axes>"
      ]
     },
     "metadata": {},
     "output_type": "display_data"
    }
   ],
   "source": []
  },
  {
   "cell_type": "code",
   "execution_count": 16,
   "metadata": {
    "autoscroll": false,
    "ein.hycell": false,
    "ein.tags": "worksheet-0",
    "slideshow": {
     "slide_type": "-"
    }
   },
   "outputs": [
    {
     "data": {
      "text/plain": [
       "0.8366592756836659"
      ]
     },
     "execution_count": 16,
     "metadata": {},
     "output_type": "execute_result"
    }
   ],
   "source": [
    "acc.max()"
   ]
  },
  {
   "cell_type": "code",
   "execution_count": null,
   "metadata": {
    "autoscroll": false,
    "ein.hycell": false,
    "ein.tags": "worksheet-0",
    "slideshow": {
     "slide_type": "-"
    }
   },
   "outputs": [],
   "source": []
  }
 ],
 "metadata": {
  "kernelspec": {
   "display_name": "Python 3",
   "language": "python",
   "name": "python3"
  },
  "language_info": {
   "codemirror_mode": {
    "name": "ipython",
    "version": 3
   },
   "file_extension": ".py",
   "mimetype": "text/x-python",
   "name": "python",
   "nbconvert_exporter": "python",
   "pygments_lexer": "ipython3",
   "version": "3.6.7"
  },
  "name": "test5.ipynb"
 },
 "nbformat": 4,
 "nbformat_minor": 2
}
